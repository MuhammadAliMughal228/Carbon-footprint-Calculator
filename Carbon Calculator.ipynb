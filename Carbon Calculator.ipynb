{
 "cells": [
  {
   "cell_type": "code",
   "execution_count": 9,
   "metadata": {},
   "outputs": [
    {
     "name": "stdout",
     "output_type": "stream",
     "text": [
      "Calculated base price for 3D Printed Accessories in category 3D printed is: 58.80\n",
      "Adjusted price for 3D Printed Accessories in category 3D printed is: 67.20\n"
     ]
    }
   ],
   "source": [
    "import pandas as pd\n",
    "\n",
    "# Function to calculate base price from item price\n",
    "def calculate_base_price(item_price):\n",
    "    return item_price * 0.7  # Example: base price is 70% of item price\n",
    "\n",
    "# Function to calculate adjusted price\n",
    "def calculate_adjusted_price(item_price, base_price):\n",
    "    # Example formula for adjustment\n",
    "    return item_price * 0.1 + base_price\n",
    "\n",
    "# Function to get user input and calculate adjusted price\n",
    "def get_user_input_and_calculate():\n",
    "    # Get user inputs\n",
    "    category = input(\"Enter category: \")\n",
    "    item_name = input(\"Enter item name: \")\n",
    "    item_price = float(input(\"Enter item price: \"))\n",
    "\n",
    "    # Calculate base price\n",
    "    base_price = calculate_base_price(item_price)\n",
    "    \n",
    "    # Calculate adjusted price\n",
    "    adjusted_price = calculate_adjusted_price(item_price, base_price)\n",
    "    \n",
    "    # Print the results\n",
    "    print(f\"Calculated base price for {item_name} in category {category} is: {base_price:.2f}\")\n",
    "    print(f\"Adjusted price for {item_name} in category {category} is: {adjusted_price:.2f}\")\n",
    "\n",
    "# Run the function\n",
    "get_user_input_and_calculate()\n"
   ]
  },
  {
   "cell_type": "code",
   "execution_count": 44,
   "metadata": {},
   "outputs": [
    {
     "name": "stdout",
     "output_type": "stream",
     "text": [
      "Suggessions:\n",
      "The entered price 15.0 is less than the actual price.\n",
      "The item Tops has a carbon emission value of 2.1/kg.\n",
      "Please increase your price to match or exceed the adjusted price.\n"
     ]
    }
   ],
   "source": [
    "import pandas as pd\n",
    "\n",
    "# Load the merged data\n",
    "data = pd.read_excel('merged_data.xlsx')\n",
    "\n",
    "# Round base price and adjusted price to 1 decimal place\n",
    "data['base_price'] = data['base_price'].round(1)\n",
    "data['adjusted_price'] = data['adjusted_price'].round(1)\n",
    "\n",
    "# Prompt buyer to select item name and enter their price\n",
    "item_name = input(\"Enter the item name: \")\n",
    "buyer_price = float(input(\"Enter your price for the item: \"))\n",
    "\n",
    "# Filter the dataset for the entered item name\n",
    "item_data = data[data['item'] == item_name]\n",
    "\n",
    "# If item is found, check price constraints and display carbon emission value\n",
    "if not item_data.empty:\n",
    "    stored_adjusted_price = item_data.iloc[0]['adjusted_price']\n",
    "    CO2_per_kg = item_data.iloc[0]['CO2/kg']\n",
    "    \n",
    "    if buyer_price < stored_adjusted_price:\n",
    "        print(f\"Suggessions:\\nThe entered price {buyer_price} is less than the actual price.\")\n",
    "        print(f\"The item {item_name} has a carbon emission value of {CO2_per_kg}/kg.\")\n",
    "        print(\"Please increase your price to match or exceed the adjusted price.\")\n",
    "    else:\n",
    "        print(f\"The entered price {buyer_price} is acceptable.\")\n",
    "else:\n",
    "    print(f\"No data found for item: {item_name}\")\n"
   ]
  },
  {
   "cell_type": "code",
   "execution_count": 14,
   "metadata": {},
   "outputs": [
    {
     "name": "stdout",
     "output_type": "stream",
     "text": [
      "Value of transport_emission = 12.0\n",
      "Value of power_consumption = 14.0\n",
      "The total carbon emission for 2.0 kg(s) of '3D Printed Accessories'\n",
      "including transport and power consumption is 29.6 kg CO2.\n"
     ]
    }
   ],
   "source": [
    "import pandas as pd\n",
    "\n",
    "# Function to calculate carbon emissions with additional factors\n",
    "def calculate_carbon_emission(df, item_name, units, transport_emission=0, power_consumption=0):\n",
    "    # Lookup the CO2 emission per unit for the given item name\n",
    "    try:\n",
    "        emission_per_unit = df.loc[df['item'] == item_name, 'CO2/kg'].values[0]\n",
    "    except IndexError:\n",
    "        print(f\"Item '{item_name}' not found in the dataset.\")\n",
    "        return\n",
    "    \n",
    "    # Calculate the total carbon emission\n",
    "    total_emission = (emission_per_unit * units) + transport_emission + power_consumption\n",
    "    print(f\"The total carbon emission for {units} kg(s) of '{item_name}'\\n\"\n",
    "          f\"including transport and power consumption is {total_emission} kg CO2.\")\n",
    "\n",
    "# Main function to run the calculator\n",
    "def main():\n",
    "    # Load the dataset\n",
    "    file_path = 'merged_data.xlsx'  # Replace with your actual file path\n",
    "    df = pd.read_excel(file_path)\n",
    "    \n",
    "    # Ask user to enter the item name\n",
    "    item_name = input(\"Enter the item name: \")\n",
    "\n",
    "    # Ask user to enter the number of units\n",
    "    try:\n",
    "        units = float(input(\"Enter the number of units: \"))\n",
    "    except ValueError:\n",
    "        print(\"Please enter a valid number of units.\")\n",
    "        return\n",
    "\n",
    "    # Ask user to enter transport emission and power consumption\n",
    "    try:\n",
    "        transport_emission = float(input(\"Enter the transport emission (kg CO2): \"))\n",
    "        print(\"Value of transport_emission =\",transport_emission)\n",
    "        power_consumption = float(input(\"Enter the power consumption emission (kg CO2): \"))\n",
    "        print(\"Value of power_consumption =\",power_consumption)\n",
    "    except ValueError:\n",
    "        print(\"Please enter valid emission values.\")\n",
    "        return\n",
    "\n",
    "    # Calculate and display the carbon emission\n",
    "    calculate_carbon_emission(df, item_name, units, transport_emission, power_consumption)\n",
    "\n",
    "# Run the calculator\n",
    "if __name__ == \"__main__\":\n",
    "    main()"
   ]
  },
  {
   "cell_type": "code",
   "execution_count": null,
   "metadata": {},
   "outputs": [],
   "source": [
    "00330-50000-00000-AAOEM"
   ]
  }
 ],
 "metadata": {
  "kernelspec": {
   "display_name": "Python 3",
   "language": "python",
   "name": "python3"
  },
  "language_info": {
   "codemirror_mode": {
    "name": "ipython",
    "version": 3
   },
   "file_extension": ".py",
   "mimetype": "text/x-python",
   "name": "python",
   "nbconvert_exporter": "python",
   "pygments_lexer": "ipython3",
   "version": "3.12.2"
  }
 },
 "nbformat": 4,
 "nbformat_minor": 2
}
